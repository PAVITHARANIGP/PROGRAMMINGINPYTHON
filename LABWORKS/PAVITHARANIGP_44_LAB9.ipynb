{
 "cells": [
  {
   "cell_type": "code",
   "execution_count": 3,
   "metadata": {},
   "outputs": [
    {
     "name": "stdout",
     "output_type": "stream",
     "text": [
      "Array Indexing:\n",
      "1\n",
      "[2 3]\n",
      "\n",
      "Fancy Indexing:\n",
      "[1 3 4]\n"
     ]
    }
   ],
   "source": [
    "#Write a program to distinguish between Array Indexing and Fancy Indexing.\n",
    "import numpy as np\n",
    "\n",
    "# Array Indexing\n",
    "arr = np.array([1, 2, 3, 4, 5])\n",
    "print(\"Array Indexing:\")\n",
    "print(arr[0])\n",
    "print(arr[1:3])\n",
    "\n",
    "# Fancy Indexing\n",
    "print(\"\\nFancy Indexing:\")\n",
    "arr = np.array([1, 2, 3, 4, 5])\n",
    "indices = np.array([0, 2, 3])\n",
    "print(arr[indices])"
   ]
  },
  {
   "cell_type": "code",
   "execution_count": 4,
   "metadata": {},
   "outputs": [
    {
     "name": "stdout",
     "output_type": "stream",
     "text": [
      "First Two Rows and Columns:\n",
      " [[1 2]\n",
      " [5 6]]\n",
      "Last Two Rows and Columns:\n",
      " [[ 7  8]\n",
      " [11 12]]\n"
     ]
    }
   ],
   "source": [
    "#Execute the 2D array Slicing.\n",
    "import numpy as np\n",
    "\n",
    "# Create a 2D array\n",
    "arr = np.array([[1, 2, 3, 4], [5, 6, 7, 8], [9, 10, 11, 12]])\n",
    "\n",
    "# Slice the array to get the first two rows and columns\n",
    "subarray1 = arr[:2, :2]\n",
    "\n",
    "# Slice the array to get the last two rows and columns\n",
    "subarray2 = arr[1:, 2:]\n",
    "\n",
    "# Print the subarrays\n",
    "print(\"First Two Rows and Columns:\\n\", subarray1)\n",
    "print(\"Last Two Rows and Columns:\\n\", subarray2)"
   ]
  },
  {
   "cell_type": "code",
   "execution_count": 5,
   "metadata": {},
   "outputs": [
    {
     "name": "stdout",
     "output_type": "stream",
     "text": [
      "Array:\n",
      " [[[[[1 2 3 4]]]]]\n",
      "Shape of Array: (1, 1, 1, 1, 4)\n"
     ]
    }
   ],
   "source": [
    "#5d array\n",
    "import numpy as np\n",
    "\n",
    "# Create a 5D array with ndmin\n",
    "arr = np.array([1, 2, 3, 4], ndmin=5)\n",
    "\n",
    "# Print the array and its shape\n",
    "print(\"Array:\\n\", arr)\n",
    "print(\"Shape of Array:\", arr.shape)"
   ]
  },
  {
   "cell_type": "code",
   "execution_count": 6,
   "metadata": {},
   "outputs": [
    {
     "name": "stdout",
     "output_type": "stream",
     "text": [
      "Original Array:\n",
      " [1 2 3 4 5 6]\n",
      "Reshaped Array:\n",
      " [[1 2 3]\n",
      " [4 5 6]]\n"
     ]
    }
   ],
   "source": [
    "#Reshape the array from 1-D to 2-D array.\n",
    "import numpy as np\n",
    "\n",
    "# Create a 1D array\n",
    "arr = np.array([1, 2, 3, 4, 5, 6])\n",
    "\n",
    "# Reshape the array to a 2D array with 2 rows and 3 columns\n",
    "arr_2d = np.reshape(arr, (2, 3))\n",
    "\n",
    "# Print the original and reshaped arrays\n",
    "print(\"Original Array:\\n\", arr)\n",
    "print(\"Reshaped Array:\\n\", arr_2d)"
   ]
  },
  {
   "cell_type": "code",
   "execution_count": 7,
   "metadata": {},
   "outputs": [
    {
     "name": "stdout",
     "output_type": "stream",
     "text": [
      "Stack():\n",
      "[[[1 2]\n",
      "  [3 4]]\n",
      "\n",
      " [[5 6]\n",
      "  [7 8]]]\n",
      "\n",
      "hstack():\n",
      "[[1 2 5 6]\n",
      " [3 4 7 8]]\n",
      "\n",
      "vstack():\n",
      "[[1 2]\n",
      " [3 4]\n",
      " [5 6]\n",
      " [7 8]]\n",
      "\n",
      "dstack():\n",
      "[[[1 5]\n",
      "  [2 6]]\n",
      "\n",
      " [[3 7]\n",
      "  [4 8]]]\n"
     ]
    }
   ],
   "source": [
    "#Perform the Stack functions in Numpy arrays – Stack(), hstack(), vstack(), and dstack().\n",
    "import numpy as np\n",
    "\n",
    "# Create two 2D arrays\n",
    "arr1 = np.array([[1, 2], [3, 4]])\n",
    "arr2 = np.array([[5, 6], [7, 8]])\n",
    "\n",
    "# Stack them using stack()\n",
    "print(\"Stack():\")\n",
    "print(np.stack((arr1, arr2), axis=0))\n",
    "\n",
    "# Stack them using hstack()\n",
    "print(\"\\nhstack():\")\n",
    "print(np.hstack((arr1, arr2)))\n",
    "\n",
    "# Stack them using vstack()\n",
    "print(\"\\nvstack():\")\n",
    "print(np.vstack((arr1, arr2)))\n",
    "\n",
    "# Stack them using dstack()\n",
    "print(\"\\ndstack():\")\n",
    "print(np.dstack((arr1, arr2)))"
   ]
  },
  {
   "cell_type": "code",
   "execution_count": 8,
   "metadata": {},
   "outputs": [
    {
     "name": "stdout",
     "output_type": "stream",
     "text": [
      "Index of 3: 2\n"
     ]
    }
   ],
   "source": [
    "#Perform the searchsort method in Numpy array.\n",
    "import numpy as np\n",
    "\n",
    "# Create a sorted array\n",
    "arr = np.array([1, 2, 3, 4, 5])\n",
    "\n",
    "# Find the index where 3 should be inserted\n",
    "index = np.searchsorted(arr, 3)\n",
    "\n",
    "# Print the index\n",
    "print(\"Index of 3:\", index)"
   ]
  },
  {
   "cell_type": "code",
   "execution_count": 19,
   "metadata": {},
   "outputs": [
    {
     "name": "stdout",
     "output_type": "stream",
     "text": [
      "[('Pavi', 25, 'Basket') ('Boo', 30, 'Wraps')]\n"
     ]
    }
   ],
   "source": [
    "#Create Numpy Structured array using your domain features.\n",
    "#Photography Prop Store\n",
    "import numpy as np\n",
    "\n",
    "# Define the data types for the fields\n",
    "dt = np.dtype([('Customer_name', 'U12'), ('Customer_id', 'i4'), ('Products', 'U10')])\n",
    "\n",
    "# Create a structured array with 2 records\n",
    "arr = np.array([('Pavi', 25, 'Basket'), ('Boo', 30, 'Wraps')], dtype=dt)\n",
    "\n",
    "# Print the structured array\n",
    "print(arr)"
   ]
  },
  {
   "cell_type": "code",
   "execution_count": 10,
   "metadata": {},
   "outputs": [
    {
     "name": "stdout",
     "output_type": "stream",
     "text": [
      "   name  age gender\n",
      "0  John   25      M\n",
      "1  Jane   30      F\n",
      "2   Bob   35      M\n"
     ]
    }
   ],
   "source": [
    "#Create Data frame using List and Dictionary.\n",
    "import pandas as pd\n",
    "\n",
    "# Define the data as a list of dictionaries\n",
    "data = [{'name': 'John', 'age': 25, 'gender': 'M'},\n",
    "        {'name': 'Jane', 'age': 30, 'gender': 'F'},\n",
    "        {'name': 'Bob', 'age': 35, 'gender': 'M'}]\n",
    "\n",
    "# Create the DataFrame\n",
    "df = pd.DataFrame(data)\n",
    "\n",
    "# Print the DataFrame\n",
    "print(df)"
   ]
  },
  {
   "cell_type": "code",
   "execution_count": 12,
   "metadata": {},
   "outputs": [
    {
     "name": "stdout",
     "output_type": "stream",
     "text": [
      "Missing Values:\n",
      "    Customer_id  Customer_name  Product  Category  Price\n",
      "0        False          False    False     False   True\n",
      "1        False          False    False     False  False\n",
      "2         True           True     True      True  False\n",
      "3        False          False    False     False  False\n",
      "\n",
      "Non-Missing Values:\n",
      "    Customer_id  Customer_name  Product  Category  Price\n",
      "0         True           True     True      True  False\n",
      "1         True           True     True      True   True\n",
      "2        False          False    False     False   True\n",
      "3         True           True     True      True   True\n",
      "\n",
      "DataFrame after dropping rows with missing values:\n",
      "    Customer_id Customer_name          Product Category Price\n",
      "1          2.0           Boo      Cheese Wrap    Wraps   30$\n",
      "3          4.0         Priya  Maternity Gowns    Gowns  400$\n",
      "\n",
      "DataFrame after filling missing values with 0:\n",
      "    Customer_id Customer_name          Product Category Price\n",
      "0          1.0          Pavi    Bamboo Basket   Basket     0\n",
      "1          2.0           Boo      Cheese Wrap    Wraps   30$\n",
      "2          0.0             0                0        0  120$\n",
      "3          4.0         Priya  Maternity Gowns    Gowns  400$\n",
      "\n",
      "DataFrame after replacing missing values with -1:\n",
      "    Customer_id Customer_name          Product Category Price\n",
      "0          1.0          Pavi    Bamboo Basket   Basket    -1\n",
      "1          2.0           Boo      Cheese Wrap    Wraps   30$\n",
      "2         -1.0            -1               -1       -1  120$\n",
      "3          4.0         Priya  Maternity Gowns    Gowns  400$\n",
      "\n",
      "DataFrame after interpolating missing values:\n",
      "    Customer_id Customer_name          Product Category Price\n",
      "0          1.0          Pavi    Bamboo Basket   Basket   NaN\n",
      "1          2.0           Boo      Cheese Wrap    Wraps   30$\n",
      "2          3.0           NaN              NaN      NaN  120$\n",
      "3          4.0         Priya  Maternity Gowns    Gowns  400$\n"
     ]
    },
    {
     "name": "stderr",
     "output_type": "stream",
     "text": [
      "C:\\Users\\rpdpr\\AppData\\Local\\Temp\\ipykernel_18904\\2998112668.py:35: FutureWarning: DataFrame.interpolate with object dtype is deprecated and will raise in a future version. Call obj.infer_objects(copy=False) before interpolating instead.\n",
      "  df_interpolated = df.interpolate()\n"
     ]
    }
   ],
   "source": [
    "#Create Data frame on your Domain\n",
    "import pandas as pd\n",
    "import numpy as np\n",
    "\n",
    "# Create a dictionary with missing values\n",
    "data = {'Customer_id': [1, 2, np.nan, 4],\n",
    "        'Customer_name': ['Pavi', 'Boo', np.nan, 'Priya'],\n",
    "        'Product': ['Bamboo Basket', 'Cheese Wrap', np.nan, 'Maternity Gowns'],\n",
    "        'Category': ['Basket', 'Wraps', np.nan, 'Gowns'],\n",
    "        'Price': [np.nan, '30$', '120$', '400$'],\n",
    "        }\n",
    "\n",
    "# Create the DataFrame\n",
    "df = pd.DataFrame(data)\n",
    "\n",
    "# Check for missing values using isnull()\n",
    "print(\"Missing Values:\\n\", df.isnull())\n",
    "\n",
    "# Check for non-missing values using notnull()\n",
    "print(\"\\nNon-Missing Values:\\n\", df.notnull())\n",
    "\n",
    "# Drop rows with missing values using dropna()\n",
    "df_dropped = df.dropna()\n",
    "print(\"\\nDataFrame after dropping rows with missing values:\\n\", df_dropped)\n",
    "\n",
    "# Fill missing values using fillna()\n",
    "df_filled = df.fillna(0)\n",
    "print(\"\\nDataFrame after filling missing values with 0:\\n\", df_filled)\n",
    "\n",
    "# Replace missing values using replace()\n",
    "df_replaced = df.replace(np.nan, -1)\n",
    "print(\"\\nDataFrame after replacing missing values with -1:\\n\", df_replaced)\n",
    "\n",
    "# Interpolate missing values using interpolate()\n",
    "df_interpolated = df.interpolate()\n",
    "print(\"\\nDataFrame after interpolating missing values:\\n\", df_interpolated)"
   ]
  },
  {
   "cell_type": "code",
   "execution_count": 16,
   "metadata": {},
   "outputs": [
    {
     "name": "stdout",
     "output_type": "stream",
     "text": [
      "                        Customer_id         Product Price\n",
      "Customer_name Category                                   \n",
      "Pavi          Basket              1   Bamboo Basket   30$\n",
      "Boo           Wraps               2     Cheese Wrap  120$\n",
      "Priya         Gowns               3  Maternity Gown  400$\n",
      "Malz          Tiaras              4    Flower Tiara  150$\n"
     ]
    }
   ],
   "source": [
    "#Perform the Hierarchical Indexing in the above created dataset.\n",
    "import pandas as pd\n",
    "\n",
    "# Create a dictionary with data\n",
    "data = {'Customer_id': [1, 2, 3, 4],\n",
    "        'Customer_name': ['Pavi', 'Boo', 'Priya', 'Malz'],\n",
    "        'Product': [' Bamboo Basket', 'Cheese Wrap', 'Maternity Gown', 'Flower Tiara'],\n",
    "        'Category': ['Basket', 'Wraps', 'Gowns', 'Tiaras'],\n",
    "        'Price': ['30$', '120$', '400$', '150$'],\n",
    "        }\n",
    "\n",
    "# Create the DataFrame\n",
    "df = pd.DataFrame(data)\n",
    "\n",
    "# Set hierarchical index\n",
    "df.set_index(['Customer_name', 'Category'], inplace=True)\n",
    "\n",
    "# Print the DataFrame\n",
    "print(df)"
   ]
  }
 ],
 "metadata": {
  "kernelspec": {
   "display_name": "Python 3",
   "language": "python",
   "name": "python3"
  },
  "language_info": {
   "codemirror_mode": {
    "name": "ipython",
    "version": 3
   },
   "file_extension": ".py",
   "mimetype": "text/x-python",
   "name": "python",
   "nbconvert_exporter": "python",
   "pygments_lexer": "ipython3",
   "version": "3.10.11"
  },
  "orig_nbformat": 4
 },
 "nbformat": 4,
 "nbformat_minor": 2
}
