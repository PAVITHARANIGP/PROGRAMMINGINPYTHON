{
 "cells": [
  {
   "cell_type": "code",
   "execution_count": 6,
   "metadata": {},
   "outputs": [
    {
     "name": "stdout",
     "output_type": "stream",
     "text": [
      "(123)-456-7894\n",
      "Phone Number found: (123)-456-7894\n"
     ]
    }
   ],
   "source": [
    "#Lab Exercise 6\n",
    "#Q1. Write a program using the Regular Exception and create a function that accepts a string and searches it for a valid phone number.\n",
    "\n",
    "import re\n",
    "txt=input(\"enter the string\")\n",
    "print(txt)\n",
    "x = re.search(r\"(\\(\\d{3}\\)-\\d{3}-\\d{4}|\\d{3}-\\d{3}-\\d{4})\", txt)\n",
    "if x is not None:\n",
    "    print(\"Phone Number found:\",x.group())\n",
    "else:\n",
    "    print(\"Phone Number not found\")"
   ]
  },
  {
   "cell_type": "code",
   "execution_count": 7,
   "metadata": {},
   "outputs": [
    {
     "name": "stdout",
     "output_type": "stream",
     "text": [
      "Enter a password : \n",
      "Password#1232\n",
      "The entered password is strong\n"
     ]
    }
   ],
   "source": [
    "#Q2. Write a function that employs regular expressions to ensure the password given to the function is strong.\n",
    "\n",
    "import re\n",
    "def password(string):\n",
    "    if len(string)<8:\n",
    "        return False\n",
    "    if not re.search(r'[A-Z]',string):\n",
    "        return False\n",
    "    if not re.search(r'[a-z]',string):\n",
    "        return False\n",
    "    if not re.search(r'\\d',string):\n",
    "        return False\n",
    "    if not re.search(r'[!@#$%^&*()_+{}[\\]:;<>,.?~]',string):\n",
    "        return False\n",
    "    \n",
    "    return True\n",
    "\n",
    "string=input(print(\"Enter a password : \"))\n",
    "\n",
    "print(string)\n",
    "if (password(string))==True:\n",
    "    print(\"The entered password is strong\")\n",
    "else:\n",
    "    print(\"The entered password is weak\")"
   ]
  }
 ],
 "metadata": {
  "kernelspec": {
   "display_name": "Python 3",
   "language": "python",
   "name": "python3"
  },
  "language_info": {
   "codemirror_mode": {
    "name": "ipython",
    "version": 3
   },
   "file_extension": ".py",
   "mimetype": "text/x-python",
   "name": "python",
   "nbconvert_exporter": "python",
   "pygments_lexer": "ipython3",
   "version": "3.10.11"
  },
  "orig_nbformat": 4
 },
 "nbformat": 4,
 "nbformat_minor": 2
}
