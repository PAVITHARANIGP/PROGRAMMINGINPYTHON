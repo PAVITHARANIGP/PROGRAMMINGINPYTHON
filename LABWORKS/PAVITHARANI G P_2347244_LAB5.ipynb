{
 "cells": [
  {
   "cell_type": "code",
   "execution_count": 3,
   "metadata": {},
   "outputs": [
    {
     "name": "stdout",
     "output_type": "stream",
     "text": [
      "Error: Division by zero is not allowed.\n"
     ]
    }
   ],
   "source": [
    "#Lab Exercise 5\n",
    "#Q1. Write a program to handle the exception of ZeroDivisionError.\n",
    "\n",
    "try:\n",
    "    numerator=int(input(\"Enter the Numerator :\"))\n",
    "    denominator=int(input(\"Enter the Denominator :\"))\n",
    "    result=numerator/denominator\n",
    "    print(\"Result : \",result)\n",
    "except ZeroDivisionError:\n",
    "    print(\"Divison by zero not allowed \")\n",
    "except ValueError:\n",
    "    print(\"Enter a valid Number\")\n",
    "except Exception as e:\n",
    "    print(\"An error occurred\",e)"
   ]
  },
  {
   "cell_type": "code",
   "execution_count": 4,
   "metadata": {},
   "outputs": [
    {
     "name": "stdout",
     "output_type": "stream",
     "text": [
      "Error: Index out of range.\n",
      "Index access attempted.\n"
     ]
    }
   ],
   "source": [
    "#Q2. Write a program to handle the exception of IndexError.\n",
    "\n",
    "def index_access_program(my_list, index):\n",
    "    try:\n",
    "        value = my_list[index]\n",
    "        return value\n",
    "    except IndexError:\n",
    "        print(\"Error: Index out of range.\")\n",
    "        return None\n",
    "    finally:\n",
    "        print(\"Index access attempted.\")\n",
    "\n",
    "my_list = [1, 2, 3]\n",
    "index_to_access = 5\n",
    "result = index_access_program(my_list, index_to_access)\n",
    "if result is not None:\n",
    "    print(\"Value at index\", index_to_access, \":\", result)\n"
   ]
  }
 ],
 "metadata": {
  "kernelspec": {
   "display_name": "Python 3",
   "language": "python",
   "name": "python3"
  },
  "language_info": {
   "codemirror_mode": {
    "name": "ipython",
    "version": 3
   },
   "file_extension": ".py",
   "mimetype": "text/x-python",
   "name": "python",
   "nbconvert_exporter": "python",
   "pygments_lexer": "ipython3",
   "version": "3.10.11"
  },
  "orig_nbformat": 4
 },
 "nbformat": 4,
 "nbformat_minor": 2
}
